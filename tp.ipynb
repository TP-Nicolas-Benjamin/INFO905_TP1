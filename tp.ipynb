{
 "cells": [
  {
   "cell_type": "code",
   "execution_count": null,
   "metadata": {},
   "outputs": [],
   "source": [
    "echo \"yolo\""
   ]
  }
 ],
 "metadata": {
  "interpreter": {
   "hash": "99d38b8ea84e3fc0559cbf3b9f350bc3dd8f4a973a2165ba0323ee09f1601067"
  },
  "kernelspec": {
   "display_name": "Python 3.9.7 64-bit ('base': conda)",
   "language": "python",
   "name": "python3"
  },
  "language_info": {
   "name": "python",
   "version": "3.9.7"
  },
  "orig_nbformat": 4
 },
 "nbformat": 4,
 "nbformat_minor": 2
}
